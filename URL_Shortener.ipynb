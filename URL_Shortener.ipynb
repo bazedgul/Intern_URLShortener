{
  "nbformat": 4,
  "nbformat_minor": 0,
  "metadata": {
    "colab": {
      "provenance": [],
      "authorship_tag": "ABX9TyMKVqtsnxHvs2T79G9GE3JG",
      "include_colab_link": true
    },
    "kernelspec": {
      "name": "python3",
      "display_name": "Python 3"
    },
    "language_info": {
      "name": "python"
    }
  },
  "cells": [
    {
      "cell_type": "markdown",
      "metadata": {
        "id": "view-in-github",
        "colab_type": "text"
      },
      "source": [
        "<a href=\"https://colab.research.google.com/github/bazedgul/Intern_URLShortener/blob/main/URL_Shortener.ipynb\" target=\"_parent\"><img src=\"https://colab.research.google.com/assets/colab-badge.svg\" alt=\"Open In Colab\"/></a>"
      ]
    },
    {
      "cell_type": "code",
      "execution_count": null,
      "metadata": {
        "id": "pYXSFNM_JoiX"
      },
      "outputs": [],
      "source": [
        "!pip install pyshorteners gradio\n"
      ]
    },
    {
      "cell_type": "code",
      "source": [
        "import pyshorteners\n",
        "import gradio as gr\n",
        "\n",
        "def shorten_url(long_url):\n",
        "    shortener = pyshorteners.Shortener()\n",
        "    try:\n",
        "        short_url = shortener.tinyurl.short(long_url)\n",
        "        return short_url\n",
        "    except Exception as e:\n",
        "        return str(e)\n",
        "\n",
        "iface = gr.Interface(\n",
        "    fn=shorten_url,\n",
        "    inputs=gr.Textbox(label=\"Enter the long URL\"),\n",
        "    outputs=\"text\",\n",
        "    title=\"URL Shortener\",\n",
        "    description=\"Enter a long URL to get a shortened version.\"\n",
        ")\n",
        "\n",
        "iface.launch()\n"
      ],
      "metadata": {
        "colab": {
          "base_uri": "https://localhost:8080/",
          "height": 626
        },
        "id": "Ozu14EDvJ377",
        "outputId": "4d6ab79d-c549-417a-f191-667b9feea4bc"
      },
      "execution_count": 2,
      "outputs": [
        {
          "output_type": "stream",
          "name": "stdout",
          "text": [
            "Setting queue=True in a Colab notebook requires sharing enabled. Setting `share=True` (you can turn this off by setting `share=False` in `launch()` explicitly).\n",
            "\n",
            "Colab notebook detected. To show errors in colab notebook, set debug=True in launch()\n",
            "Running on public URL: https://56d43213a704b0cd38.gradio.live\n",
            "\n",
            "This share link expires in 72 hours. For free permanent hosting and GPU upgrades, run `gradio deploy` from Terminal to deploy to Spaces (https://huggingface.co/spaces)\n"
          ]
        },
        {
          "output_type": "display_data",
          "data": {
            "text/plain": [
              "<IPython.core.display.HTML object>"
            ],
            "text/html": [
              "<div><iframe src=\"https://56d43213a704b0cd38.gradio.live\" width=\"100%\" height=\"500\" allow=\"autoplay; camera; microphone; clipboard-read; clipboard-write;\" frameborder=\"0\" allowfullscreen></iframe></div>"
            ]
          },
          "metadata": {}
        },
        {
          "output_type": "execute_result",
          "data": {
            "text/plain": []
          },
          "metadata": {},
          "execution_count": 2
        }
      ]
    }
  ]
}